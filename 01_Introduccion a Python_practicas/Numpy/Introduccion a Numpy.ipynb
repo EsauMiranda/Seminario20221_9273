{
 "cells": [
  {
   "cell_type": "markdown",
   "id": "b99e84d5",
   "metadata": {},
   "source": [
    "### Introduccion a Numpy"
   ]
  },
  {
   "cell_type": "markdown",
   "id": "914da4ec",
   "metadata": {},
   "source": [
    "Numpy es una biblioteca que permite el manejo y la  manipulación de arreglos y matrices."
   ]
  },
  {
   "cell_type": "code",
   "execution_count": 1,
   "id": "630f4b77",
   "metadata": {},
   "outputs": [],
   "source": [
    "#Importar numpy \n",
    "import numpy as np"
   ]
  },
  {
   "cell_type": "code",
   "execution_count": 2,
   "id": "1fd7467c",
   "metadata": {},
   "outputs": [
    {
     "name": "stdout",
     "output_type": "stream",
     "text": [
      "[[2 3 5 6]\n",
      " [2 5 7 3]]\n"
     ]
    }
   ],
   "source": [
    "#Creacion de un arreglo\n",
    "new_array = np.array([[2,3,5,6],[2,5,7,3]])\n",
    "print(new_array)"
   ]
  },
  {
   "cell_type": "code",
   "execution_count": 3,
   "id": "fa7265fe",
   "metadata": {},
   "outputs": [
    {
     "name": "stdout",
     "output_type": "stream",
     "text": [
      "Dimension del arreglo: 2\n",
      "Tipos de datos que conforman al arreglo: int32\n",
      "La forma del arreglo: (2, 4)\n"
     ]
    }
   ],
   "source": [
    "#Conocer algunas características del arreglo\n",
    "print(\"Dimension del arreglo:\", new_array.ndim)\n",
    "print(\"Tipos de datos que conforman al arreglo:\", new_array.dtype)\n",
    "print(\"La forma del arreglo:\", new_array.shape)"
   ]
  },
  {
   "cell_type": "code",
   "execution_count": 4,
   "id": "2abbd066",
   "metadata": {},
   "outputs": [
    {
     "name": "stdout",
     "output_type": "stream",
     "text": [
      "7\n",
      "[6 3]\n",
      "[2 3 5 6]\n"
     ]
    }
   ],
   "source": [
    "#Ingresar a algun elemento particular del arreglo con la notacion [renglon, columna]\n",
    "print(new_array[1,2])\n",
    "#Acceder a la columna 3 de todos los renglones\n",
    "print(new_array[:,3])\n",
    "#Acceder a todas las columnas del renglon 0\n",
    "print(new_array[0,:])"
   ]
  },
  {
   "cell_type": "code",
   "execution_count": 5,
   "id": "aca3bf28",
   "metadata": {},
   "outputs": [
    {
     "data": {
      "text/plain": [
       "array([[15,  3,  5,  6],\n",
       "       [ 2,  5,  7,  3]])"
      ]
     },
     "execution_count": 5,
     "metadata": {},
     "output_type": "execute_result"
    }
   ],
   "source": [
    "#Modificar algún elemento del arreglo\n",
    "new_array[0,0] = 15\n",
    "new_array"
   ]
  },
  {
   "cell_type": "code",
   "execution_count": 6,
   "id": "b5847359",
   "metadata": {},
   "outputs": [
    {
     "name": "stdout",
     "output_type": "stream",
     "text": [
      "[[ 1  2  3]\n",
      " [ 4  5  6]\n",
      " [ 7  8  9]\n",
      " [10 11 12]]\n"
     ]
    }
   ],
   "source": [
    "#Modificar la forma del arreglo\n",
    "a = np.array([[1,2,3,4,5,6],[7,8,9,10,11,12]])\n",
    "b = np.reshape(a,(4,3))\n",
    "print(b)"
   ]
  },
  {
   "cell_type": "code",
   "execution_count": 7,
   "id": "2659b507",
   "metadata": {},
   "outputs": [
    {
     "data": {
      "text/plain": [
       "array([[1, 2, 3],\n",
       "       [1, 2, 3],\n",
       "       [1, 2, 3]])"
      ]
     },
     "execution_count": 7,
     "metadata": {},
     "output_type": "execute_result"
    }
   ],
   "source": [
    "#Repetir elementos para formar un arreglo\n",
    "arre1 = [1,2,3]\n",
    "np.repeat([arre1],3, axis=0)"
   ]
  },
  {
   "cell_type": "code",
   "execution_count": 8,
   "id": "211a1e27",
   "metadata": {},
   "outputs": [
    {
     "name": "stdout",
     "output_type": "stream",
     "text": [
      "[[0. 0. 0.]\n",
      " [0. 0. 0.]]\n"
     ]
    }
   ],
   "source": [
    "#Inicializar distintos tipos de arreglos\n",
    "\n",
    "#Arreglo de forma (2,3) con valores 0\n",
    "print(np.zeros((2,3)))"
   ]
  },
  {
   "cell_type": "code",
   "execution_count": 9,
   "id": "e7b87cec",
   "metadata": {},
   "outputs": [
    {
     "name": "stdout",
     "output_type": "stream",
     "text": [
      "[[1. 1.]\n",
      " [1. 1.]\n",
      " [1. 1.]\n",
      " [1. 1.]]\n"
     ]
    }
   ],
   "source": [
    "#Arreglo de forma (4,2) con valores 1\n",
    "print(np.ones((4,2)))"
   ]
  },
  {
   "cell_type": "code",
   "execution_count": 10,
   "id": "e355e039",
   "metadata": {},
   "outputs": [
    {
     "name": "stdout",
     "output_type": "stream",
     "text": [
      "[[20 20]\n",
      " [20 20]]\n"
     ]
    }
   ],
   "source": [
    "#Arreglo de la forma (2,2) con valor 20\n",
    "print(np.full((2,2),20))"
   ]
  },
  {
   "cell_type": "code",
   "execution_count": 11,
   "id": "991697f1",
   "metadata": {},
   "outputs": [
    {
     "name": "stdout",
     "output_type": "stream",
     "text": [
      "[[[ 3  8]\n",
      "  [ 4  9]\n",
      "  [ 5  9]]\n",
      "\n",
      " [[13  6]\n",
      "  [11 13]\n",
      "  [ 7  3]]]\n"
     ]
    }
   ],
   "source": [
    "#Arreglo de la forma (2,3,2) con numeros aleatorios con valor minimo 3 y valor mázimo 15\n",
    "print(np.random.randint(3,15,size=(2,3,2)))"
   ]
  },
  {
   "cell_type": "code",
   "execution_count": 12,
   "id": "ed5084fd",
   "metadata": {},
   "outputs": [
    {
     "data": {
      "text/plain": [
       "array([[1., 0., 0., 0.],\n",
       "       [0., 1., 0., 0.],\n",
       "       [0., 0., 1., 0.],\n",
       "       [0., 0., 0., 1.]])"
      ]
     },
     "execution_count": 12,
     "metadata": {},
     "output_type": "execute_result"
    }
   ],
   "source": [
    "#Matriz identidad\n",
    "np.identity(4)"
   ]
  },
  {
   "cell_type": "markdown",
   "id": "e8d14434",
   "metadata": {},
   "source": [
    "#### Algebra lineal"
   ]
  },
  {
   "cell_type": "code",
   "execution_count": 13,
   "id": "1a02f787",
   "metadata": {},
   "outputs": [
    {
     "name": "stdout",
     "output_type": "stream",
     "text": [
      "[ 4  5  9 10]\n",
      "[-1  0  4  5]\n",
      "[ 4  8 24 28]\n",
      "[0.5 1.  3.  3.5]\n",
      "[ 0.84147098  0.90929743 -0.2794155   0.6569866 ]\n"
     ]
    }
   ],
   "source": [
    "a = np.array([1,2,6,7])\n",
    "print(a+3)\n",
    "print(a-2)\n",
    "print(a*4)\n",
    "print(a/2)\n",
    "print(np.sin(a))"
   ]
  },
  {
   "cell_type": "code",
   "execution_count": 14,
   "id": "c5ff5e05",
   "metadata": {},
   "outputs": [
    {
     "name": "stdout",
     "output_type": "stream",
     "text": [
      "[2 2]\n"
     ]
    }
   ],
   "source": [
    "#Suma de vectores\n",
    "a = np.array([6, -2])\n",
    "b = np.array([-4, 4])\n",
    "print(a + b)"
   ]
  },
  {
   "cell_type": "code",
   "execution_count": 15,
   "id": "28eea869",
   "metadata": {},
   "outputs": [
    {
     "name": "stdout",
     "output_type": "stream",
     "text": [
      "[10 -6]\n"
     ]
    }
   ],
   "source": [
    "#Resta de vectores\n",
    "print(a-b)"
   ]
  },
  {
   "cell_type": "code",
   "execution_count": 16,
   "id": "917093ed",
   "metadata": {},
   "outputs": [
    {
     "data": {
      "text/plain": [
       "array([[ 9, 15, 21, 11],\n",
       "       [37, 63, 89, 51]])"
      ]
     },
     "execution_count": 16,
     "metadata": {},
     "output_type": "execute_result"
    }
   ],
   "source": [
    "#Multiplicación de matrices\n",
    "a = np.array([[1,2],[5,8]])\n",
    "b = np.array([[1,3,5,7],[4,6,8,2]])\n",
    "np.matmul(a,b)"
   ]
  },
  {
   "cell_type": "code",
   "execution_count": 17,
   "id": "a1c5d457",
   "metadata": {},
   "outputs": [
    {
     "data": {
      "text/plain": [
       "-1.9999999999999993"
      ]
     },
     "execution_count": 17,
     "metadata": {},
     "output_type": "execute_result"
    }
   ],
   "source": [
    "#Obtener el determinante de una matriz\n",
    "np.linalg.det(a)"
   ]
  },
  {
   "cell_type": "code",
   "execution_count": 18,
   "id": "31b3af39",
   "metadata": {},
   "outputs": [
    {
     "data": {
      "text/plain": [
       "9.695359714832659"
      ]
     },
     "execution_count": 18,
     "metadata": {},
     "output_type": "execute_result"
    }
   ],
   "source": [
    "#Obtener la norma de una matriz\n",
    "np.linalg.norm(a)"
   ]
  },
  {
   "cell_type": "code",
   "execution_count": 19,
   "id": "407d5b30",
   "metadata": {},
   "outputs": [
    {
     "data": {
      "text/plain": [
       "array([[1, 5],\n",
       "       [2, 8]])"
      ]
     },
     "execution_count": 19,
     "metadata": {},
     "output_type": "execute_result"
    }
   ],
   "source": [
    "#Obtener la transpuesta\n",
    "a.T"
   ]
  },
  {
   "cell_type": "code",
   "execution_count": 20,
   "id": "3227062d",
   "metadata": {},
   "outputs": [
    {
     "data": {
      "text/plain": [
       "array([[ 9, 15, 21, 11],\n",
       "       [37, 63, 89, 51]])"
      ]
     },
     "execution_count": 20,
     "metadata": {},
     "output_type": "execute_result"
    }
   ],
   "source": [
    "#Obtener el producto punto\n",
    "np.dot(a,b)"
   ]
  },
  {
   "cell_type": "code",
   "execution_count": 21,
   "id": "9299a000",
   "metadata": {},
   "outputs": [
    {
     "name": "stdout",
     "output_type": "stream",
     "text": [
      "[0 0 1]\n"
     ]
    }
   ],
   "source": [
    "#Producto cruz o producto vectorial\n",
    "a = np.array([1,0,0]) \n",
    "b = np.array([0,1,0]) \n",
    "print(np.cross(a,b))"
   ]
  }
 ],
 "metadata": {
  "kernelspec": {
   "display_name": "Python 3",
   "language": "python",
   "name": "python3"
  },
  "language_info": {
   "codemirror_mode": {
    "name": "ipython",
    "version": 3
   },
   "file_extension": ".py",
   "mimetype": "text/x-python",
   "name": "python",
   "nbconvert_exporter": "python",
   "pygments_lexer": "ipython3",
   "version": "3.8.8"
  }
 },
 "nbformat": 4,
 "nbformat_minor": 5
}
