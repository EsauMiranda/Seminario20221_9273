{
 "cells": [
  {
   "cell_type": "markdown",
   "id": "6bc9342f",
   "metadata": {},
   "source": [
    "### Introduccion a Scipy"
   ]
  },
  {
   "cell_type": "markdown",
   "id": "45e31cb0",
   "metadata": {},
   "source": [
    "Scipy es una biblioteca que contiene modulos para la optimización, algebra lineal, integración, interpolación, entre otras funciones."
   ]
  },
  {
   "cell_type": "markdown",
   "id": "f8f48f9d",
   "metadata": {},
   "source": [
    "#### Optimizacion"
   ]
  },
  {
   "cell_type": "code",
   "execution_count": 13,
   "id": "1abc410b",
   "metadata": {},
   "outputs": [],
   "source": [
    "#Importar las funciones de scipy\n",
    "from scipy.optimize import minimize"
   ]
  },
  {
   "cell_type": "markdown",
   "id": "2ecaa736",
   "metadata": {},
   "source": [
    "Minimizar $f(x) = (x-3)^{2}$"
   ]
  },
  {
   "cell_type": "code",
   "execution_count": 8,
   "id": "2f726e43",
   "metadata": {},
   "outputs": [],
   "source": [
    "#Definir la funcion\n",
    "def f(x):\n",
    "    return (x-3)**2"
   ]
  },
  {
   "cell_type": "code",
   "execution_count": 9,
   "id": "e4c4d532",
   "metadata": {},
   "outputs": [
    {
     "data": {
      "text/plain": [
       "      fun: 5.551437397369767e-17\n",
       " hess_inv: array([[0.5]])\n",
       "      jac: array([-4.3254289e-13])\n",
       "  message: 'Optimization terminated successfully.'\n",
       "     nfev: 6\n",
       "      nit: 2\n",
       "     njev: 3\n",
       "   status: 0\n",
       "  success: True\n",
       "        x: array([2.99999999])"
      ]
     },
     "execution_count": 9,
     "metadata": {},
     "output_type": "execute_result"
    }
   ],
   "source": [
    "#Utilizar la funcion minimize para minimizar la funcion definida de manera anterior\n",
    "minimize(f,2)"
   ]
  },
  {
   "cell_type": "markdown",
   "id": "93fe3994",
   "metadata": {},
   "source": [
    "Minimizar $f(x,y)= (x-1)^{2}+(y-2.5)^{2}$ sujeto a\n",
    " * $x-2y+2 \\geq 0$\n",
    " * $-x-2y+6 \\geq 0$\n",
    " * $-x+2y+2 \\geq 0$\n",
    " * $x \\geq 0$\n",
    " * $y \\geq 0$"
   ]
  },
  {
   "cell_type": "code",
   "execution_count": 16,
   "id": "6ba7395e",
   "metadata": {},
   "outputs": [],
   "source": [
    "f = lambda x: (x[0]-1)**2 + (x[1]-2.5)**2\n",
    "#constraints\n",
    "cons = ({'type': 'ineq', 'fun': lambda x: x[0]-2*x[1]+2},\n",
    "       {'type': 'ineq', 'fun': lambda x:-x[0]-2*x[1]+6},\n",
    "       {'type': 'ineq', 'fun': lambda x:-x[0]+2*x[1]+2})\n",
    "#bounds\n",
    "bnds = ((0, None),(0, None))\n",
    "\n",
    "res = minimize(f,(2,0), bounds = bnds, constraints = cons )"
   ]
  },
  {
   "cell_type": "code",
   "execution_count": 17,
   "id": "4b8af25c",
   "metadata": {},
   "outputs": [
    {
     "data": {
      "text/plain": [
       "     fun: 0.8000000011920985\n",
       "     jac: array([ 0.80000002, -1.59999999])\n",
       " message: 'Optimization terminated successfully'\n",
       "    nfev: 10\n",
       "     nit: 3\n",
       "    njev: 3\n",
       "  status: 0\n",
       " success: True\n",
       "       x: array([1.4, 1.7])"
      ]
     },
     "execution_count": 17,
     "metadata": {},
     "output_type": "execute_result"
    }
   ],
   "source": [
    "res"
   ]
  },
  {
   "cell_type": "code",
   "execution_count": 18,
   "id": "33b7c05c",
   "metadata": {},
   "outputs": [],
   "source": [
    "#minimize? #Para obtener información acerca de esta funcion"
   ]
  },
  {
   "cell_type": "markdown",
   "id": "e9521f39",
   "metadata": {},
   "source": [
    "#### Interpolación"
   ]
  },
  {
   "cell_type": "code",
   "execution_count": 21,
   "id": "676f47d6",
   "metadata": {},
   "outputs": [],
   "source": [
    "import numpy as np\n",
    "import matplotlib.pyplot as plt\n",
    "from numpy import linspace"
   ]
  },
  {
   "cell_type": "code",
   "execution_count": 23,
   "id": "72feadc6",
   "metadata": {},
   "outputs": [
    {
     "data": {
      "text/plain": [
       "<matplotlib.collections.PathCollection at 0x1df425746d0>"
      ]
     },
     "execution_count": 23,
     "metadata": {},
     "output_type": "execute_result"
    },
    {
     "data": {
      "image/png": "[encoded data removed]",
      "text/plain": [
       "<Figure size 432x288 with 1 Axes>"
      ]
     },
     "metadata": {
      "needs_background": "light"
     },
     "output_type": "display_data"
    }
   ],
   "source": [
    "x = np.linspace(0,10,10)\n",
    "y = x**2 * np.sin(x)\n",
    "plt.scatter(x,y)"
   ]
  },
  {
   "cell_type": "code",
   "execution_count": 24,
   "id": "19b162ab",
   "metadata": {},
   "outputs": [],
   "source": [
    "from scipy.interpolate import interp1d"
   ]
  },
  {
   "cell_type": "code",
   "execution_count": 26,
   "id": "73858a0f",
   "metadata": {},
   "outputs": [],
   "source": [
    "f = interp1d(x,y, kind = 'linear')\n",
    "x_dense = np.linspace(0,10,100)\n",
    "y_dense = f(x_dense)"
   ]
  },
  {
   "cell_type": "code",
   "execution_count": 28,
   "id": "3018085c",
   "metadata": {},
   "outputs": [
    {
     "data": {
      "text/plain": [
       "[<matplotlib.lines.Line2D at 0x1df42733df0>]"
      ]
     },
     "execution_count": 28,
     "metadata": {},
     "output_type": "execute_result"
    },
    {
     "data": {
      "image/png": "[encoded data removed]",
      "text/plain": [
       "<Figure size 432x288 with 1 Axes>"
      ]
     },
     "metadata": {
      "needs_background": "light"
     },
     "output_type": "display_data"
    }
   ],
   "source": [
    "plt.plot(x_dense,y_dense)"
   ]
  },
  {
   "cell_type": "code",
   "execution_count": 29,
   "id": "112fc204",
   "metadata": {},
   "outputs": [
    {
     "data": {
      "text/plain": [
       "[<matplotlib.lines.Line2D at 0x1df42769c40>]"
      ]
     },
     "execution_count": 29,
     "metadata": {},
     "output_type": "execute_result"
    },
    {
     "data": {
      "image/png": "[encoded data removed]",
      "text/plain": [
       "<Figure size 432x288 with 1 Axes>"
      ]
     },
     "metadata": {
      "needs_background": "light"
     },
     "output_type": "display_data"
    }
   ],
   "source": [
    "f = interp1d(x,y, kind = 'cubic')\n",
    "x_dense1 = np.linspace(0,10,100)\n",
    "y_dense1 = f(x_dense)\n",
    "plt.plot(x_dense1,y_dense1)"
   ]
  },
  {
   "cell_type": "markdown",
   "id": "8be6c2ad",
   "metadata": {},
   "source": [
    "#### Ajuste de curvas"
   ]
  },
  {
   "cell_type": "code",
   "execution_count": 30,
   "id": "a2e67782",
   "metadata": {},
   "outputs": [],
   "source": [
    "from scipy.optimize import curve_fit"
   ]
  },
  {
   "cell_type": "code",
   "execution_count": 38,
   "id": "d0e898eb",
   "metadata": {},
   "outputs": [],
   "source": [
    "def f(x):\n",
    "    return x**2 + 10*np.sin(x)"
   ]
  },
  {
   "cell_type": "code",
   "execution_count": 39,
   "id": "00820a5a",
   "metadata": {},
   "outputs": [],
   "source": [
    "x_data = np.linspace(-10, 10,20)\n",
    "y_data = f(x_data) + np.random.randn(x_data.size)"
   ]
  },
  {
   "cell_type": "code",
   "execution_count": 40,
   "id": "d8cc3f28",
   "metadata": {},
   "outputs": [],
   "source": [
    "#Definimos una funcion donde podemos encontrar los valores de a y b\n",
    "def f2(x, a, b):\n",
    "    return a*x**2 + b*np.sin(x)"
   ]
  },
  {
   "cell_type": "code",
   "execution_count": 44,
   "id": "b0b46d18",
   "metadata": {},
   "outputs": [
    {
     "data": {
      "text/plain": [
       "array([ 0.99472809, 10.19790581])"
      ]
     },
     "execution_count": 44,
     "metadata": {},
     "output_type": "execute_result"
    }
   ],
   "source": [
    "guess = [2, 2]\n",
    "params, params_covariance = curve_fit(f2, x_data, y_data, guess)\n",
    "params"
   ]
  },
  {
   "cell_type": "markdown",
   "id": "e3133f3a",
   "metadata": {},
   "source": [
    "#### Diferenciación"
   ]
  },
  {
   "cell_type": "code",
   "execution_count": 45,
   "id": "13a31255",
   "metadata": {},
   "outputs": [],
   "source": [
    "from scipy.misc import derivative"
   ]
  },
  {
   "cell_type": "code",
   "execution_count": 46,
   "id": "03b590ac",
   "metadata": {},
   "outputs": [],
   "source": [
    "def f(x):\n",
    "    return x**2 * np.sin(2*x) * np.exp(-x)\n",
    "\n",
    "x = np.linspace(0,1,100)"
   ]
  },
  {
   "cell_type": "code",
   "execution_count": 48,
   "id": "cc10f844",
   "metadata": {},
   "outputs": [
    {
     "data": {
      "text/plain": [
       "[<matplotlib.lines.Line2D at 0x1df42c6c760>]"
      ]
     },
     "execution_count": 48,
     "metadata": {},
     "output_type": "execute_result"
    },
    {
     "data": {
      "image/png": "[encoded data removed]",
      "text/plain": [
       "<Figure size 432x288 with 1 Axes>"
      ]
     },
     "metadata": {
      "needs_background": "light"
     },
     "output_type": "display_data"
    }
   ],
   "source": [
    "plt.plot(x,f(x))\n",
    "plt.plot(x,derivative(f,x,dx=1e-6))\n",
    "plt.plot(x,derivative(f,x,dx=1e-6, n=2))"
   ]
  },
  {
   "cell_type": "markdown",
   "id": "fbb84828",
   "metadata": {},
   "source": [
    "#### Integracion"
   ]
  },
  {
   "cell_type": "code",
   "execution_count": 50,
   "id": "6b499dfb",
   "metadata": {},
   "outputs": [],
   "source": [
    "from scipy.integrate import quad"
   ]
  },
  {
   "cell_type": "markdown",
   "id": "26e35eac",
   "metadata": {},
   "source": [
    "Realizar la siguiente integral\n",
    "$\\\\$\n",
    "$\\int_0^1 x^{2} sin(2x)e^{-x} dx$"
   ]
  },
  {
   "cell_type": "code",
   "execution_count": 55,
   "id": "32f272bf",
   "metadata": {},
   "outputs": [],
   "source": [
    "integrand = lambda x: x**2 * np.sin(2*x) * np.exp(-x)\n",
    "integral, integral_error = quad(integrand, 0,1)"
   ]
  },
  {
   "cell_type": "code",
   "execution_count": 56,
   "id": "f256ac6f",
   "metadata": {},
   "outputs": [
    {
     "name": "stdout",
     "output_type": "stream",
     "text": [
      "0.14558175869954834\n",
      "1.6162822047366225e-15\n"
     ]
    }
   ],
   "source": [
    "print(integral)\n",
    "print(integral_error)"
   ]
  },
  {
   "cell_type": "markdown",
   "id": "a6029a9a",
   "metadata": {},
   "source": [
    "Realizar la siguiente integral doble \n",
    "$\\\\$\n",
    "$\\int_0^1 \\int_{-x}^{x^2} sin(x+y^{2}) dydx$"
   ]
  },
  {
   "cell_type": "code",
   "execution_count": 57,
   "id": "6211dba7",
   "metadata": {},
   "outputs": [],
   "source": [
    "from scipy.integrate import dblquad"
   ]
  },
  {
   "cell_type": "code",
   "execution_count": 58,
   "id": "47370474",
   "metadata": {},
   "outputs": [],
   "source": [
    "integrand = lambda x,y : np.sin(x+y**2)\n",
    "lwr_y = lambda x: -x\n",
    "upp_y = lambda x: x**2\n",
    "integral, integral_error = dblquad(integrand, 0,1,lwr_y,upp_y)"
   ]
  },
  {
   "cell_type": "code",
   "execution_count": 59,
   "id": "5e553b0c",
   "metadata": {},
   "outputs": [
    {
     "name": "stdout",
     "output_type": "stream",
     "text": [
      "0.315802507240474\n",
      "1.5634600713498928e-14\n"
     ]
    }
   ],
   "source": [
    "print(integral)\n",
    "print(integral_error)"
   ]
  },
  {
   "cell_type": "markdown",
   "id": "4d13ce87",
   "metadata": {},
   "source": [
    "#### Ecuaciones diferenciales"
   ]
  },
  {
   "cell_type": "code",
   "execution_count": 60,
   "id": "081d30d9",
   "metadata": {},
   "outputs": [],
   "source": [
    "from scipy.integrate import odeint"
   ]
  },
  {
   "cell_type": "code",
   "execution_count": 62,
   "id": "0fe62dde",
   "metadata": {},
   "outputs": [],
   "source": [
    "def dvdt(v,t):\n",
    "    return 3*v**2-2\n",
    "\n",
    "v0 = 0"
   ]
  },
  {
   "cell_type": "code",
   "execution_count": 64,
   "id": "4faed1a1",
   "metadata": {},
   "outputs": [],
   "source": [
    "t= np.linspace(0,1,100)\n",
    "sol = odeint(dvdt, v0, t)"
   ]
  },
  {
   "cell_type": "code",
   "execution_count": 67,
   "id": "e9a32c63",
   "metadata": {},
   "outputs": [
    {
     "data": {
      "text/plain": [
       "[<matplotlib.lines.Line2D at 0x1df42cd4970>]"
      ]
     },
     "execution_count": 67,
     "metadata": {},
     "output_type": "execute_result"
    },
    {
     "data": {
      "image/png": "[encoded data removed]",
      "text/plain": [
       "<Figure size 432x288 with 1 Axes>"
      ]
     },
     "metadata": {
      "needs_background": "light"
     },
     "output_type": "display_data"
    }
   ],
   "source": [
    "plt.plot(t, sol.T[0])"
   ]
  },
  {
   "cell_type": "code",
   "execution_count": null,
   "id": "70ae6b04",
   "metadata": {},
   "outputs": [],
   "source": []
  }
 ],
 "metadata": {
  "kernelspec": {
   "display_name": "Python 3",
   "language": "python",
   "name": "python3"
  },
  "language_info": {
   "codemirror_mode": {
    "name": "ipython",
    "version": 3
   },
   "file_extension": ".py",
   "mimetype": "text/x-python",
   "name": "python",
   "nbconvert_exporter": "python",
   "pygments_lexer": "ipython3",
   "version": "3.8.8"
  }
 },
 "nbformat": 4,
 "nbformat_minor": 5
}
