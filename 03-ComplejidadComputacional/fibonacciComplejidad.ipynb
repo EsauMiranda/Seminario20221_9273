{
 "cells": [
  {
   "cell_type": "markdown",
   "metadata": {},
   "source": [
    "### Complejidad"
   ]
  },
  {
   "cell_type": "markdown",
   "metadata": {},
   "source": [
    "#### Notación O(n) (asymptotic upper bound)\n",
    "Definicion. \n",
    "$$\n",
    "O(g(n))=\\{ \\text{Si existe constantes positivas } c \\text{ y } n_0 \\text{ tales que } 0\\leq f(n)\\leq cg(n) \\hspace{0.5cm} \\forall n \\geq n_0\\}\n",
    "$$\n",
    "\n",
    "La complejidad en tiempo y espacio de Fibonacci Recursivo es:\n",
    " $$\n",
    " O(\\phi^n)\n",
    " $$\n",
    " Mientras que Fibonacci iterativo la complejidad en tiempo es:\n",
    " $$\n",
    " O(n)\n",
    " $$\n",
    " Y en espacio es $O(1)$"
   ]
  },
  {
   "cell_type": "code",
   "execution_count": 1,
   "metadata": {},
   "outputs": [],
   "source": [
    "import numpy as     np   #biblioteca da soporte a matrices y vectores\n",
    "from   time  import time  #para el calculo de tiempo\n",
    "import pylab as     pb   #biblioteca que nos va a servir para graficar"
   ]
  },
  {
   "cell_type": "code",
   "execution_count": 9,
   "metadata": {},
   "outputs": [],
   "source": [
    "def fibonacci_recursivo(n):\n",
    "    \"\"\"\n",
    "    Esta funcion implementa el algoritmo de fibonacci recursivo\n",
    "    :param n, es el fibonacci a calcular \n",
    "    :return el fibonacci \n",
    "    Ejemplo: \n",
    "    fiboRecursivo(3)=1\n",
    "    \"\"\"   \n",
    "    if n==0:\n",
    "        return 0 \n",
    "    elif n==1:\n",
    "        return 1\n",
    "    else:\n",
    "        return fibonacci_recursivo(n-1)+fibonacci_recursivo(n-2)"
   ]
  },
  {
   "cell_type": "code",
   "execution_count": 3,
   "metadata": {},
   "outputs": [],
   "source": [
    "def fibonacci_iterativo(n):\n",
    "    if n==0:\n",
    "        return 0\n",
    "    elif n==1:\n",
    "        return 1\n",
    "    else:\n",
    "        f2,f1=1,0\n",
    "        for i in range(1,n,1):\n",
    "            f2,f1,=f2+f1,f2\n",
    "        return f2      "
   ]
  },
  {
   "cell_type": "code",
   "execution_count": 15,
   "metadata": {},
   "outputs": [],
   "source": [
    "timeFR=[]\n",
    "timeFI=[]\n",
    "def Complexity(funct,lista,n):\n",
    "    \"\"\"\n",
    "    Esta funcion calcula los tiempos de ejecucion de diferentes algoritmos\n",
    "    :param -funct algoritmo\n",
    "    :param lista donde se guardan los tiempos de ejecucion\n",
    "    :n es la entrada de fibonacci\n",
    "    \n",
    "    \"\"\"\n",
    "    for i in range(n):\n",
    "        t_ini=time()*1000.0 #time() devuelve el tiempo en segundos desde el epoch multplicamos por 1000 \n",
    "        #para obtener el tiempo en milisegundos \n",
    "        funct(i)\n",
    "        t_fin=time()*1000.0\n",
    "        t_total=t_fin-t_ini\n",
    "        lista.append(t_total)\n",
    "    return None"
   ]
  },
  {
   "cell_type": "code",
   "execution_count": 16,
   "metadata": {},
   "outputs": [],
   "source": [
    "n=40\n",
    "Complexity(fibonacci_recursivo,timeFR,n)"
   ]
  },
  {
   "cell_type": "code",
   "execution_count": 17,
   "metadata": {},
   "outputs": [],
   "source": [
    "Complexity(fibonacci_iterativo,timeFI,n)"
   ]
  },
  {
   "cell_type": "code",
   "execution_count": 18,
   "metadata": {},
   "outputs": [
    {
     "data": {
      "text/plain": [
       "<matplotlib.legend.Legend at 0x7f5c517b2240>"
      ]
     },
     "execution_count": 18,
     "metadata": {},
     "output_type": "execute_result"
    },
    {
     "data": {
      "image/png": "[encoded data removed]",
      "text/plain": [
       "<Figure size 432x288 with 1 Axes>"
      ]
     },
     "metadata": {
      "needs_background": "light"
     },
     "output_type": "display_data"
    }
   ],
   "source": [
    "x=[i for i in range(n)]\n",
    "pb.title('Complejidad en tiempo') #titulo\n",
    "pb.xlabel('n')  #nombre del eje x\n",
    "pb.ylabel('Tiempo de ejecución') #nombre del eje y\n",
    "pb.plot(x,timeFR,label='Algoritmo recursivo')\n",
    "pb.plot(x,timeFI,label='Algoritmo iterativo')\n",
    "pb.legend() #para que se muestren los labels"
   ]
  },
  {
   "cell_type": "code",
   "execution_count": 30,
   "metadata": {},
   "outputs": [
    {
     "name": "stdout",
     "output_type": "stream",
     "text": [
      "unidades de tiempo: 258224987808692305920.0\n"
     ]
    }
   ],
   "source": [
    "\"\"\"\n",
    "Ejemplo: dado que la complejidad en tiempo de fibonacci recursivo es el número aureo\n",
    "a la n entonces supongamos que queremos calcular el fibonacci de 100, haciendo un \n",
    "sencillo calculo podemos notar que se tardará:\n",
    "\"\"\"\n",
    "tiempo=1.6**100\n",
    "print(\"unidades de tiempo: %.1f\" %tiempo)\n",
    "#suponiendo que cada operación"
   ]
  },
  {
   "cell_type": "code",
   "execution_count": 31,
   "metadata": {},
   "outputs": [
    {
     "name": "stdout",
     "output_type": "stream",
     "text": [
      "tiempo en años: 3052304.8\n"
     ]
    }
   ],
   "source": [
    "\"\"\"\n",
    "Vamos a suponer que nuestra computadora se tarda un nanosegundos en realizar\n",
    "una operación, es decir una unidad de tiempo en nuestra computadora es 1x10-9s,\n",
    "entonces calcular el fibonacci de 100 le tomara a nuestra computadora\n",
    "\"\"\"\n",
    "tiempo_enanios=0.000000001*tiempo/84600\n",
    "print(\"tiempo en años: %.1f\" % tiempo_enanios)"
   ]
  }
 ],
 "metadata": {
  "kernelspec": {
   "display_name": "Python 3",
   "language": "python",
   "name": "python3"
  },
  "language_info": {
   "codemirror_mode": {
    "name": "ipython",
    "version": 3
   },
   "file_extension": ".py",
   "mimetype": "text/x-python",
   "name": "python",
   "nbconvert_exporter": "python",
   "pygments_lexer": "ipython3",
   "version": "3.7.3"
  }
 },
 "nbformat": 4,
 "nbformat_minor": 2
}
